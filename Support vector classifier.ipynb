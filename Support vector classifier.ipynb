{
 "cells": [
  {
   "cell_type": "markdown",
   "id": "015da2db",
   "metadata": {},
   "source": [
    "# SVC using Sklearn"
   ]
  },
  {
   "cell_type": "code",
   "execution_count": 1,
   "id": "6487c36f",
   "metadata": {},
   "outputs": [],
   "source": [
    "import numpy as np\n",
    "from sklearn import preprocessing,svm\n",
    "from sklearn.model_selection import train_test_split\n",
    "import pandas as pd"
   ]
  },
  {
   "cell_type": "code",
   "execution_count": 2,
   "id": "a31af4bb",
   "metadata": {},
   "outputs": [],
   "source": [
    "df=pd.read_csv(\"waterQuality.csv\")\n",
    "df.replace('?',-99999,inplace=True)"
   ]
  },
  {
   "cell_type": "code",
   "execution_count": 3,
   "id": "a65778a9",
   "metadata": {},
   "outputs": [],
   "source": [
    "x=np.array(df.drop(labels='is_safe',axis=1))\n",
    "y=np.array(df['is_safe'])"
   ]
  },
  {
   "cell_type": "code",
   "execution_count": 4,
   "id": "22c3075b",
   "metadata": {},
   "outputs": [],
   "source": [
    "x_train,x_test,y_train,y_test=train_test_split(x,y,test_size=0.2)"
   ]
  },
  {
   "cell_type": "code",
   "execution_count": 5,
   "id": "14b994f2",
   "metadata": {},
   "outputs": [
    {
     "data": {
      "text/plain": [
       "SVC()"
      ]
     },
     "execution_count": 5,
     "metadata": {},
     "output_type": "execute_result"
    }
   ],
   "source": [
    "clf=svm.SVC()\n",
    "clf.fit(x_train,y_train)"
   ]
  },
  {
   "cell_type": "code",
   "execution_count": 6,
   "id": "1b055ee7",
   "metadata": {},
   "outputs": [
    {
     "name": "stdout",
     "output_type": "stream",
     "text": [
      "0.975\n"
     ]
    }
   ],
   "source": [
    "accuracy=clf.score(x_test,y_test)\n",
    "print(accuracy)"
   ]
  },
  {
   "cell_type": "markdown",
   "id": "07d041cf",
   "metadata": {},
   "source": [
    "# SVC from scratch"
   ]
  },
  {
   "cell_type": "code",
   "execution_count": 8,
   "id": "b8973931",
   "metadata": {},
   "outputs": [],
   "source": [
    "import numpy as np\n",
    "import matplotlib.pyplot as plt\n",
    "from matplotlib import style\n",
    "style.use('ggplot')"
   ]
  },
  {
   "cell_type": "code",
   "execution_count": 9,
   "id": "c8eadf45",
   "metadata": {},
   "outputs": [],
   "source": [
    "class Support_vector_machine:\n",
    "    def __init__(self,visualization=True):\n",
    "        self.visualization=visualization\n",
    "        self.colors={-1:'b',1:'r'}\n",
    "        if self.visualization:\n",
    "            self.fig=plt.figure()\n",
    "            self.ax=self.fig.add_subplot(1,1,1)\n",
    "\n",
    "    \n",
    "\n",
    "    def fit(self,data):\n",
    "        self.data=data\n",
    "        opt_oct={}\n",
    "        transforms=[[1,1],[1,-1],[-1,-1],[1,-1]]\n",
    "        all_data=[]\n",
    "        for yi in self.data:\n",
    "            for featureset in self.data[yi]:\n",
    "                for feature in featureset:\n",
    "                    all_data.append(feature)\n",
    "        \n",
    "        self.max_feature_value=max(all_data)\n",
    "        self.min_feature_value=min(all_data)\n",
    "        all_data=None \n",
    "        step_sizes=[self.max_feature_value*0.1,self.max_feature_value*0.01]\n",
    "        b_range_multiple=5\n",
    "        b_multiple=5\n",
    "        latest_optimum=self.max_feature_value*10\n",
    "        \n",
    "        for step in step_sizes:\n",
    "            w=np.array([latest_optimum,latest_optimum])\n",
    "            optimized=False\n",
    "            while not optimized:\n",
    "                for b in np.arange(-1*(self.max_feature_value*b_range_multiple),self.max_feature_value*b_range_multiple,step*b_multiple):\n",
    "                    for transformation in transforms:\n",
    "                        w_t=w*transformation\n",
    "                        found_option =True\n",
    "                        for i in self.data:\n",
    "                            for xi in self.data[i]:\n",
    "                                yi=i\n",
    "                                if not yi*(np.dot(w_t,xi)+b)>=1:\n",
    "                                    found_option=False\n",
    "                        if found_option:\n",
    "                            opt_oct[np.linalg.norm(w_t)]=[w_t,b]\n",
    "             \n",
    "                if w[0]<0:\n",
    "                    optimized=True\n",
    "                    print('Optimized a step.')\n",
    "                else:\n",
    "                    w=w-step\n",
    "            norms=sorted([n for n in opt_oct]) \n",
    "            opt_choice=opt_oct[norms[0]]\n",
    "            self.w=opt_choice[0]\n",
    "            self.b=opt_choice[1]\n",
    "            latest_optimum=opt_choice[0][0]+step*2\n",
    "        for i in self.data:\n",
    "            for xi in self.data[i]:\n",
    "                yi=i\n",
    "                print(xi,\":\",yi*(np.dot(self.w,xi)+self.b))\n",
    "                \n",
    "\n",
    "\n",
    "    def predict(self,features):\n",
    "        classification=np.sign(np.dot(np.array(features),self.w)+self.b)\n",
    "        if classification!=0 and self.visualization:\n",
    "            self.ax.scatter(features[0],features[1],s=200,marker='*',c=self.colors[classification])\n",
    "        return classification\n",
    "\n",
    "    def visualize(self):\n",
    "        [[self.ax.scatter(x[0],x[1],s=100,color=self.colors[i]) for x in data_dict[i]] for i in data_dict]\n",
    "        def hyperplane(x,w,b,v):\n",
    "                return (-w[0]*x-b+v)/w[1]\n",
    "        datarange=(self.min_feature_value*0.9,self.max_feature_value*1.1)\n",
    "        hyp_x_min=datarange[0]\n",
    "        hyp_x_max=datarange[1]\n",
    "        psv1=hyperplane(hyp_x_min,self.w,self.b,1)\n",
    "        psv2=hyperplane(hyp_x_max,self.w,self.b,1)\n",
    "        self.ax.plot([hyp_x_min,hyp_x_max],[psv1,psv2],'k')\n",
    "        \n",
    "        nsv1=hyperplane(hyp_x_min,self.w,self.b,-1)\n",
    "        nsv2=hyperplane(hyp_x_max,self.w,self.b,-1)\n",
    "        self.ax.plot([hyp_x_min,hyp_x_max],[nsv1,nsv2],'k')\n",
    "\n",
    "        db1=hyperplane(hyp_x_min,self.w,self.b,0)\n",
    "        db2=hyperplane(hyp_x_max,self.w,self.b,0)\n",
    "        self.ax.plot([hyp_x_min,hyp_x_max],[db1,db2],'y--')\n",
    "             \n",
    "        plt.show()"
   ]
  },
  {
   "cell_type": "code",
   "execution_count": 10,
   "id": "cbddfa7c",
   "metadata": {},
   "outputs": [
    {
     "name": "stdout",
     "output_type": "stream",
     "text": [
      "Optimized a step.\n",
      "Optimized a step.\n",
      "[1 7] : 1.52000000000104\n",
      "[2 8] : 1.52000000000104\n",
      "[3 8] : 1.2000000000008908\n",
      "[5 1] : 1.6800000000004542\n",
      "[ 6 -1] : 2.6400000000009025\n",
      "[7 3] : 1.6800000000004542\n"
     ]
    },
    {
     "data": {
      "image/png": "[encoded data removed]",
      "text/plain": [
       "<Figure size 432x288 with 1 Axes>"
      ]
     },
     "metadata": {},
     "output_type": "display_data"
    }
   ],
   "source": [
    "data_dict={-1:np.array([[1,7],[2,8],[3,8]]),1:np.array([[5,1],[6,-1],[7,3]])}\n",
    "svm=Support_vector_machine()\n",
    "svm.fit(data=data_dict)\n",
    "#svm.visualize()\n",
    "\n",
    "\n",
    "predict_us=[[0,2],[2,4],[2,5],[4,5],[5,6],[6,7],[7,8]]\n",
    "for p in predict_us:\n",
    "\tsvm.predict(p)\n",
    "\n",
    "svm.visualize()"
   ]
  }
 ],
 "metadata": {
  "kernelspec": {
   "display_name": "Python 3 (ipykernel)",
   "language": "python",
   "name": "python3"
  },
  "language_info": {
   "codemirror_mode": {
    "name": "ipython",
    "version": 3
   },
   "file_extension": ".py",
   "mimetype": "text/x-python",
   "name": "python",
   "nbconvert_exporter": "python",
   "pygments_lexer": "ipython3",
   "version": "3.9.12"
  }
 },
 "nbformat": 4,
 "nbformat_minor": 5
}
